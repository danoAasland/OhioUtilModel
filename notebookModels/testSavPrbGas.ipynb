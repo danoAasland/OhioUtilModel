{
  "nbformat": 4,
  "nbformat_minor": 0,
  "metadata": {
    "kernelspec": {
      "display_name": "Python 3",
      "language": "python",
      "name": "python3"
    },
    "language_info": {
      "codemirror_mode": {
        "name": "ipython",
        "version": 3
      },
      "file_extension": ".py",
      "mimetype": "text/x-python",
      "name": "python",
      "nbconvert_exporter": "python",
      "pygments_lexer": "ipython3",
      "version": "3.7.3"
    },
    "colab": {
      "name": "testSavPrbGas.ipynb",
      "provenance": [],
      "include_colab_link": true
    }
  },
  "cells": [
    {
      "cell_type": "markdown",
      "metadata": {
        "id": "view-in-github",
        "colab_type": "text"
      },
      "source": [
        "<a href=\"https://colab.research.google.com/github/danoAasland/OhioUtilModel/blob/master/notebookModels/testSavPrbGas.ipynb\" target=\"_parent\"><img src=\"https://colab.research.google.com/assets/colab-badge.svg\" alt=\"Open In Colab\"/></a>"
      ]
    },
    {
      "cell_type": "code",
      "metadata": {
        "id": "NjugFmAO7XtN",
        "colab_type": "code",
        "colab": {}
      },
      "source": [
        "#packages\n",
        "#python 2/3 compatibility\n",
        "from __future__ import absolute_import, division, print_function, unicode_literals\n",
        "#packages\n",
        "import pathlib\n",
        "import numpy as np\n",
        "import pandas as pd\n",
        "from sklearn.externals import joblib\n",
        "import tensorflow as tf\n",
        "from tensorflow import keras\n",
        "from tensorflow.keras import layers\n",
        "from keras.models import model_from_json"
      ],
      "execution_count": 0,
      "outputs": []
    },
    {
      "cell_type": "code",
      "metadata": {
        "id": "Uxk_7jiV7XtS",
        "colab_type": "code",
        "colab": {}
      },
      "source": [
        "#load gas model\n",
        "json_file = open('predGasModel.json','r')\n",
        "loaded_model_jsonGAS = json_file.read()\n",
        "json_file.close()\n",
        "loaded_modelGAS = model_from_json(loaded_model_jsonGAS)\n",
        "\n",
        "#load weights into new model\n",
        "loaded_modelGAS.load_weights(\"predAnnualGas.h5\")\n",
        "print(\"Loaded Gas Model from disk\")"
      ],
      "execution_count": 0,
      "outputs": []
    },
    {
      "cell_type": "code",
      "metadata": {
        "id": "FzshaQwh7XtV",
        "colab_type": "code",
        "colab": {}
      },
      "source": [
        "#load gas model scaler weights\n",
        "scalerGas = joblib.load(\"trainPredGasScaler.save\") "
      ],
      "execution_count": 0,
      "outputs": []
    },
    {
      "cell_type": "code",
      "metadata": {
        "id": "QmJvU7xI7XtX",
        "colab_type": "code",
        "colab": {}
      },
      "source": [
        "#load pred. savings model\n",
        "json_file = open('predSaveModel.json','r')\n",
        "loaded_model_jsonPrdSave = json_file.read()\n",
        "json_file.close()\n",
        "loaded_modelPrdSave = model_from_json(loaded_model_jsonPrdSave)\n",
        "\n",
        "#load weights into new model\n",
        "loaded_modelPrdSave.load_weights(\"predSaveDollar.h5\")\n",
        "print(\"Loaded Savings Model from disk\")"
      ],
      "execution_count": 0,
      "outputs": []
    },
    {
      "cell_type": "code",
      "metadata": {
        "id": "VDzgAFfl7Xta",
        "colab_type": "code",
        "colab": {}
      },
      "source": [
        "#load savings model scaler weights\n",
        "scalerSaveRate = joblib.load(\"trainPredSaveScaler.save\") "
      ],
      "execution_count": 0,
      "outputs": []
    },
    {
      "cell_type": "code",
      "metadata": {
        "id": "1N_coGAr7Xtc",
        "colab_type": "code",
        "colab": {}
      },
      "source": [
        "#Function to normalize test data value to dist. range from train data\n",
        "def norm(x, scaler):\n",
        "    return (x - scaler['mean']) / scaler['std']"
      ],
      "execution_count": 0,
      "outputs": []
    },
    {
      "cell_type": "code",
      "metadata": {
        "id": "t0xnSZCi7Xtf",
        "colab_type": "code",
        "colab": {}
      },
      "source": [
        "#load test GAS data\n",
        "#define how to input the values here\n",
        "testGas = 'some input type here'"
      ],
      "execution_count": 0,
      "outputs": []
    },
    {
      "cell_type": "code",
      "metadata": {
        "id": "q4jQ6OYk7Xth",
        "colab_type": "code",
        "colab": {}
      },
      "source": [
        "#normalize test gas data\n",
        "testGasNorm = norm(testGas, scalerGas)"
      ],
      "execution_count": 0,
      "outputs": []
    },
    {
      "cell_type": "code",
      "metadata": {
        "id": "I7fnG45A7Xtk",
        "colab_type": "code",
        "colab": {}
      },
      "source": [
        "#compile loaded GAS model\n",
        "optimizerGAS = tf.keras.optimizers.RMSprop(0.001)\n",
        "loaded_modelGAS.compile(loss='mean_squared_logarithmic_error', optimizer=optimizerGAS, metrics=['mae', 'mse'])"
      ],
      "execution_count": 0,
      "outputs": []
    },
    {
      "cell_type": "code",
      "metadata": {
        "id": "IOrCeAwH7Xtm",
        "colab_type": "code",
        "colab": {}
      },
      "source": [
        "#get gas prediction\n",
        "outputGasPredVal = loaded_modelGAS.predict(testGasNorm)\n",
        "print(outputGasPredVal)"
      ],
      "execution_count": 0,
      "outputs": []
    },
    {
      "cell_type": "code",
      "metadata": {
        "id": "saqzbP-p7Xto",
        "colab_type": "code",
        "colab": {}
      },
      "source": [
        "#load test SAVINGS data\n",
        "#define how to input the values here\n",
        "testSaveRate = 'some input type here'"
      ],
      "execution_count": 0,
      "outputs": []
    },
    {
      "cell_type": "code",
      "metadata": {
        "id": "y9upMfgo7Xtr",
        "colab_type": "code",
        "colab": {}
      },
      "source": [
        "#add gas prediction to savings data\n",
        "testSaveRate['G annual']  = outputGasPredVal.round()"
      ],
      "execution_count": 0,
      "outputs": []
    },
    {
      "cell_type": "code",
      "metadata": {
        "id": "5Ymu73oE7Xtu",
        "colab_type": "code",
        "colab": {}
      },
      "source": [
        "#normalize test savings data\n",
        "testSaveRateNorm = norm(testSaveRate, scalerSaveRate)"
      ],
      "execution_count": 0,
      "outputs": []
    },
    {
      "cell_type": "code",
      "metadata": {
        "id": "_qJkEkr_7Xtw",
        "colab_type": "code",
        "colab": {}
      },
      "source": [
        "#compile loaded SAVINGS model\n",
        "optimizerSAVE = tf.keras.optimizers.RMSprop(0.001)\n",
        "loaded_modelSAVE.compile(loss='mean_squared_logarithmic_error', optimizer=optimizerSAVE, metrics=['mae', 'mse'])"
      ],
      "execution_count": 0,
      "outputs": []
    },
    {
      "cell_type": "code",
      "metadata": {
        "id": "lQ-xcMau7Xty",
        "colab_type": "code",
        "colab": {}
      },
      "source": [
        "#pass data to savings model, get prediction\n",
        "outputSavePredVal = loaded_modelPrdSave.predict(testSaveRateNorm)\n",
        "print(outputSavePredVal)"
      ],
      "execution_count": 0,
      "outputs": []
    },
    {
      "cell_type": "code",
      "metadata": {
        "id": "VEncKNaa7Xt1",
        "colab_type": "code",
        "colab": {}
      },
      "source": [
        "#elec data x local value\n",
        "elecMltprVal = 0.13"
      ],
      "execution_count": 0,
      "outputs": []
    },
    {
      "cell_type": "code",
      "metadata": {
        "id": "FMxNHaTf7Xt4",
        "colab_type": "code",
        "colab": {}
      },
      "source": [
        "#gas data x local value\n",
        "gasMltprVal = 8.18"
      ],
      "execution_count": 0,
      "outputs": []
    },
    {
      "cell_type": "code",
      "metadata": {
        "id": "cETJLfxv7Xt5",
        "colab_type": "code",
        "colab": {}
      },
      "source": [
        "#combine values to calc. annual dollar elec. and gas cost contd..\n",
        "#est. annual total utility cost before and after savings and savings percentage\n",
        "#returns savings rate as pct\n",
        "#calc annual energy dollar val for central Ohio\n",
        "energyLocYrCost = testSaveRateOutput['E annual'] * elecMltprVal\n",
        "#calc annual gas dollar val for central Ohio\n",
        "gasLocYrCost = testSaveRateOutput['G annual'] * gasMltprVal\n",
        "#calc est. annual combined cost of gas/elec. utilities\n",
        "totActUtil = int(energyLocYrCost + gasLocYrCost)\n",
        "#est new annual utility cost less pred. savings value\n",
        "newEstUtil = int(totActUtil - outputSavePredVal)\n",
        "#converts savings value to percentage value\n",
        "estPctSavings = int((outputSavePredVal/totActUtil) * 100)"
      ],
      "execution_count": 0,
      "outputs": []
    },
    {
      "cell_type": "code",
      "metadata": {
        "id": "FZ2pIuMd7Xt7",
        "colab_type": "code",
        "colab": {}
      },
      "source": [
        "#return all new prediction values as list that can be parsed\n",
        "#output format: [current annual util. dollar value, new annual util. dollar value, est. annual savings dollar amount, est. savings rate as percentage]\n",
        "outputDataVal = [totActUtil, newEstUtil, outputSavePredVal, estPctSavings]\n",
        "\n",
        "#for demo purposes, prints values below, uncomment to run\n",
        "#print(\"Current Annual Utility Cost: %d\" % (outputDataVal[0]))\n",
        "#print(\"Estimated New Annual Utility Cost: %d\" % (outputDataVal[1]))\n",
        "#print(\"Estimated Annual Savings Amount: $ %d\" % (outputDataVal[2]))\n",
        "#print(\"Estimated Annual Savings Percent: %d\" % (outputDataVal[3]))"
      ],
      "execution_count": 0,
      "outputs": []
    },
    {
      "cell_type": "code",
      "metadata": {
        "id": "hxcZw4XA7Xt9",
        "colab_type": "code",
        "colab": {}
      },
      "source": [
        "#define how you want to push output data to be used/returned to user"
      ],
      "execution_count": 0,
      "outputs": []
    }
  ]
}