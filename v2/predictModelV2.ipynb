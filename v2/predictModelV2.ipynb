{
 "cells": [
  {
   "cell_type": "code",
   "execution_count": 8,
   "metadata": {},
   "outputs": [],
   "source": [
    "#packages\n",
    "#python 2/3 compatibility\n",
    "from __future__ import absolute_import, division, print_function, unicode_literals\n",
    "#packages\n",
    "import pathlib\n",
    "import numpy as np\n",
    "import pandas as pd\n",
    "from sklearn.externals import joblib\n",
    "import tensorflow as tf\n",
    "from tensorflow import keras\n",
    "from tensorflow.keras import layers\n",
    "#from keras.models import model_from_json\n",
    "from tensorflow.keras.models import model_from_json"
   ]
  },
  {
   "cell_type": "code",
   "execution_count": 9,
   "metadata": {},
   "outputs": [
    {
     "name": "stdout",
     "output_type": "stream",
     "text": [
      "Loaded Gas Model from disk\n"
     ]
    }
   ],
   "source": [
    "#load gas model\n",
    "json_file = open('predGasModel.json','r')\n",
    "loaded_model_jsonGAS = json_file.read()\n",
    "json_file.close()\n",
    "loaded_modelGAS = model_from_json(loaded_model_jsonGAS)\n",
    "\n",
    "#load weights into new model\n",
    "loaded_modelGAS.load_weights(\"predAnnualGas.h5\")\n",
    "print(\"Loaded Gas Model from disk\")"
   ]
  },
  {
   "cell_type": "code",
   "execution_count": 10,
   "metadata": {},
   "outputs": [],
   "source": [
    "#load gas model scaler weights\n",
    "scalerGas = joblib.load(\"trainPredGasScaler.save\") "
   ]
  },
  {
   "cell_type": "code",
   "execution_count": 11,
   "metadata": {},
   "outputs": [
    {
     "name": "stdout",
     "output_type": "stream",
     "text": [
      "Loaded Savings Model from disk\n"
     ]
    }
   ],
   "source": [
    "#load pred. savings model\n",
    "json_file = open('predSaveModel.json','r')\n",
    "loaded_model_jsonPrdSave = json_file.read()\n",
    "json_file.close()\n",
    "loaded_modelPrdSave = model_from_json(loaded_model_jsonPrdSave)\n",
    "\n",
    "#load weights into new model\n",
    "loaded_modelPrdSave.load_weights(\"predSaveDollar.h5\")\n",
    "print(\"Loaded Savings Model from disk\")"
   ]
  },
  {
   "cell_type": "code",
   "execution_count": 12,
   "metadata": {},
   "outputs": [],
   "source": [
    "#load savings model scaler weights\n",
    "scalerSaveRate = joblib.load(\"trainPredSaveScaler.save\") "
   ]
  },
  {
   "cell_type": "code",
   "execution_count": null,
   "metadata": {},
   "outputs": [],
   "source": [
    "#Gas Input Data Format/features\n",
    "# 'SF', 'Floors','Year Built', 'Value', 'E annual'\n",
    "#Savings Input Data Format\n",
    "# 'SF', 'Floors','Year Built', 'Value', 'E annual', 'G annual'\n",
    "#then normalized to train datasets"
   ]
  },
  {
   "cell_type": "code",
   "execution_count": 13,
   "metadata": {},
   "outputs": [],
   "source": [
    "#load test dataset\n",
    "testData = pd.read_csv('delawarePwrConcat.csv')"
   ]
  },
  {
   "cell_type": "code",
   "execution_count": 16,
   "metadata": {},
   "outputs": [
    {
     "data": {
      "text/html": [
       "<div>\n",
       "<style scoped>\n",
       "    .dataframe tbody tr th:only-of-type {\n",
       "        vertical-align: middle;\n",
       "    }\n",
       "\n",
       "    .dataframe tbody tr th {\n",
       "        vertical-align: top;\n",
       "    }\n",
       "\n",
       "    .dataframe thead th {\n",
       "        text-align: right;\n",
       "    }\n",
       "</style>\n",
       "<table border=\"1\" class=\"dataframe\">\n",
       "  <thead>\n",
       "    <tr style=\"text-align: right;\">\n",
       "      <th></th>\n",
       "      <th>ownerName</th>\n",
       "      <th>Value</th>\n",
       "      <th>Year Built</th>\n",
       "      <th>Floors</th>\n",
       "      <th>SF</th>\n",
       "      <th>service_address</th>\n",
       "      <th>residentName</th>\n",
       "      <th>E annual</th>\n",
       "    </tr>\n",
       "  </thead>\n",
       "  <tbody>\n",
       "    <tr>\n",
       "      <th>0</th>\n",
       "      <td>PRICE AMOS E &amp; CONSTANCE D</td>\n",
       "      <td>146400</td>\n",
       "      <td>1911</td>\n",
       "      <td>1.0</td>\n",
       "      <td>1046</td>\n",
       "      <td>8724 WEISER RD WALDO, OH 43356</td>\n",
       "      <td>PRICE AMOS JR</td>\n",
       "      <td>11607</td>\n",
       "    </tr>\n",
       "    <tr>\n",
       "      <th>1</th>\n",
       "      <td>BARROWS TIMOTHY A</td>\n",
       "      <td>156400</td>\n",
       "      <td>1961</td>\n",
       "      <td>1.0</td>\n",
       "      <td>1362</td>\n",
       "      <td>8739 WEISER RD WALDO, OH 43356</td>\n",
       "      <td>BARROWS TIMOTHY A</td>\n",
       "      <td>13642</td>\n",
       "    </tr>\n",
       "    <tr>\n",
       "      <th>2</th>\n",
       "      <td>SHONYA FARMS LLC</td>\n",
       "      <td>154400</td>\n",
       "      <td>2018</td>\n",
       "      <td>1.5</td>\n",
       "      <td>1946</td>\n",
       "      <td>8695 WEISER RD WALDO, OH 43356</td>\n",
       "      <td>HEMANS KURT</td>\n",
       "      <td>9786</td>\n",
       "    </tr>\n",
       "    <tr>\n",
       "      <th>3</th>\n",
       "      <td>WISEMAN CLARA MAE</td>\n",
       "      <td>84400</td>\n",
       "      <td>1953</td>\n",
       "      <td>1.0</td>\n",
       "      <td>1120</td>\n",
       "      <td>80 NORTON RD WALDO, OH 43356</td>\n",
       "      <td>WISEMAN CLARA M</td>\n",
       "      <td>12507</td>\n",
       "    </tr>\n",
       "    <tr>\n",
       "      <th>4</th>\n",
       "      <td>BROWN RICHARD A &amp; LOIS E</td>\n",
       "      <td>48200</td>\n",
       "      <td>1901</td>\n",
       "      <td>1.0</td>\n",
       "      <td>1188</td>\n",
       "      <td>151 NORTON RD WALDO, OH 43356</td>\n",
       "      <td>ISAACS NORMA</td>\n",
       "      <td>10655</td>\n",
       "    </tr>\n",
       "  </tbody>\n",
       "</table>\n",
       "</div>"
      ],
      "text/plain": [
       "                    ownerName   Value  Year Built  Floors    SF  \\\n",
       "0  PRICE AMOS E & CONSTANCE D  146400        1911     1.0  1046   \n",
       "1           BARROWS TIMOTHY A  156400        1961     1.0  1362   \n",
       "2            SHONYA FARMS LLC  154400        2018     1.5  1946   \n",
       "3           WISEMAN CLARA MAE   84400        1953     1.0  1120   \n",
       "4    BROWN RICHARD A & LOIS E   48200        1901     1.0  1188   \n",
       "\n",
       "                  service_address       residentName  E annual  \n",
       "0  8724 WEISER RD WALDO, OH 43356      PRICE AMOS JR     11607  \n",
       "1  8739 WEISER RD WALDO, OH 43356  BARROWS TIMOTHY A     13642  \n",
       "2  8695 WEISER RD WALDO, OH 43356        HEMANS KURT      9786  \n",
       "3    80 NORTON RD WALDO, OH 43356    WISEMAN CLARA M     12507  \n",
       "4   151 NORTON RD WALDO, OH 43356       ISAACS NORMA     10655  "
      ]
     },
     "execution_count": 16,
     "metadata": {},
     "output_type": "execute_result"
    }
   ],
   "source": [
    "testData.head()"
   ]
  },
  {
   "cell_type": "code",
   "execution_count": 15,
   "metadata": {},
   "outputs": [],
   "source": [
    "testData.rename(columns = {'OWNER1':'ownerName', 'MARKET_TOT': 'Value', 'YRBUILT': 'Year Built',\n",
    "                           'STORYHGT': 'Floors', 'TOT_FIN_L_': 'SF' ,'customer_name': 'residentName'}, inplace = True) "
   ]
  },
  {
   "cell_type": "code",
   "execution_count": 17,
   "metadata": {},
   "outputs": [],
   "source": [
    "testDataFeatures = testData[['SF', 'Floors','Year Built', 'Value', 'E annual']]"
   ]
  },
  {
   "cell_type": "code",
   "execution_count": 18,
   "metadata": {},
   "outputs": [
    {
     "data": {
      "text/html": [
       "<div>\n",
       "<style scoped>\n",
       "    .dataframe tbody tr th:only-of-type {\n",
       "        vertical-align: middle;\n",
       "    }\n",
       "\n",
       "    .dataframe tbody tr th {\n",
       "        vertical-align: top;\n",
       "    }\n",
       "\n",
       "    .dataframe thead th {\n",
       "        text-align: right;\n",
       "    }\n",
       "</style>\n",
       "<table border=\"1\" class=\"dataframe\">\n",
       "  <thead>\n",
       "    <tr style=\"text-align: right;\">\n",
       "      <th></th>\n",
       "      <th>SF</th>\n",
       "      <th>Floors</th>\n",
       "      <th>Year Built</th>\n",
       "      <th>Value</th>\n",
       "      <th>E annual</th>\n",
       "    </tr>\n",
       "  </thead>\n",
       "  <tbody>\n",
       "    <tr>\n",
       "      <th>0</th>\n",
       "      <td>1046</td>\n",
       "      <td>1.0</td>\n",
       "      <td>1911</td>\n",
       "      <td>146400</td>\n",
       "      <td>11607</td>\n",
       "    </tr>\n",
       "    <tr>\n",
       "      <th>1</th>\n",
       "      <td>1362</td>\n",
       "      <td>1.0</td>\n",
       "      <td>1961</td>\n",
       "      <td>156400</td>\n",
       "      <td>13642</td>\n",
       "    </tr>\n",
       "    <tr>\n",
       "      <th>2</th>\n",
       "      <td>1946</td>\n",
       "      <td>1.5</td>\n",
       "      <td>2018</td>\n",
       "      <td>154400</td>\n",
       "      <td>9786</td>\n",
       "    </tr>\n",
       "    <tr>\n",
       "      <th>3</th>\n",
       "      <td>1120</td>\n",
       "      <td>1.0</td>\n",
       "      <td>1953</td>\n",
       "      <td>84400</td>\n",
       "      <td>12507</td>\n",
       "    </tr>\n",
       "    <tr>\n",
       "      <th>4</th>\n",
       "      <td>1188</td>\n",
       "      <td>1.0</td>\n",
       "      <td>1901</td>\n",
       "      <td>48200</td>\n",
       "      <td>10655</td>\n",
       "    </tr>\n",
       "  </tbody>\n",
       "</table>\n",
       "</div>"
      ],
      "text/plain": [
       "     SF  Floors  Year Built   Value  E annual\n",
       "0  1046     1.0        1911  146400     11607\n",
       "1  1362     1.0        1961  156400     13642\n",
       "2  1946     1.5        2018  154400      9786\n",
       "3  1120     1.0        1953   84400     12507\n",
       "4  1188     1.0        1901   48200     10655"
      ]
     },
     "execution_count": 18,
     "metadata": {},
     "output_type": "execute_result"
    }
   ],
   "source": [
    "testDataFeatures.head()"
   ]
  },
  {
   "cell_type": "code",
   "execution_count": 20,
   "metadata": {},
   "outputs": [],
   "source": [
    "#select a single row to pass to model to validate on\n",
    "testOneGas = testDataFeatures[0:1]"
   ]
  },
  {
   "cell_type": "code",
   "execution_count": 21,
   "metadata": {},
   "outputs": [],
   "source": [
    "#Function to normalize test data value to dist. range from train data\n",
    "def norm(x, scaler):\n",
    "    return (x - scaler['mean']) / scaler['std']"
   ]
  },
  {
   "cell_type": "code",
   "execution_count": 22,
   "metadata": {},
   "outputs": [],
   "source": [
    "#load test GAS data\n",
    "#define how to input the values here\n",
    "#testGas = 'some input type here'\n",
    "testGas = testOneGas"
   ]
  },
  {
   "cell_type": "code",
   "execution_count": 23,
   "metadata": {},
   "outputs": [],
   "source": [
    "#normalize test gas data\n",
    "testGasNorm = norm(testGas, scalerGas)"
   ]
  },
  {
   "cell_type": "code",
   "execution_count": 24,
   "metadata": {},
   "outputs": [],
   "source": [
    "#compile loaded GAS model\n",
    "optimizerGAS = tf.keras.optimizers.RMSprop(0.001)\n",
    "loaded_modelGAS.compile(loss='mean_squared_logarithmic_error', optimizer=optimizerGAS, metrics=['mae', 'mse'])"
   ]
  },
  {
   "cell_type": "code",
   "execution_count": 25,
   "metadata": {},
   "outputs": [
    {
     "name": "stdout",
     "output_type": "stream",
     "text": [
      "[[1031.6674]]\n"
     ]
    }
   ],
   "source": [
    "#get gas prediction\n",
    "outputGasPredVal = loaded_modelGAS.predict(testGasNorm)\n",
    "print(outputGasPredVal)"
   ]
  },
  {
   "cell_type": "code",
   "execution_count": 28,
   "metadata": {},
   "outputs": [],
   "source": [
    "#load test SAVINGS data\n",
    "#define how to input the values here\n",
    "#testSaveRate = 'some input type here'\n",
    "testSaveRate = testOneGas.copy()"
   ]
  },
  {
   "cell_type": "code",
   "execution_count": 33,
   "metadata": {},
   "outputs": [],
   "source": [
    "#add gas prediction to savings data\n",
    "testSaveRate['G annual']  = outputGasPredVal.astype(int)"
   ]
  },
  {
   "cell_type": "code",
   "execution_count": 34,
   "metadata": {},
   "outputs": [
    {
     "name": "stdout",
     "output_type": "stream",
     "text": [
      "     SF  Floors  Year Built   Value  E annual  G annual\n",
      "0  1046     1.0        1911  146400     11607      1031\n"
     ]
    }
   ],
   "source": [
    "#view test data\n",
    "print(testSaveRate)"
   ]
  },
  {
   "cell_type": "code",
   "execution_count": 35,
   "metadata": {},
   "outputs": [],
   "source": [
    "#normalize test savings data\n",
    "testSaveRateNorm = norm(testSaveRate, scalerSaveRate)"
   ]
  },
  {
   "cell_type": "code",
   "execution_count": 37,
   "metadata": {},
   "outputs": [],
   "source": [
    "#compile loaded SAVINGS model\n",
    "optimizerSAVE = tf.keras.optimizers.RMSprop(0.001)\n",
    "loaded_modelPrdSave.compile(loss='mean_squared_logarithmic_error', optimizer=optimizerSAVE, metrics=['mae', 'mse'])"
   ]
  },
  {
   "cell_type": "code",
   "execution_count": 38,
   "metadata": {},
   "outputs": [
    {
     "name": "stdout",
     "output_type": "stream",
     "text": [
      "[[651.42847]]\n"
     ]
    }
   ],
   "source": [
    "#pass data to savings model, get prediction\n",
    "outputSavePredVal = loaded_modelPrdSave.predict(testSaveRateNorm)\n",
    "print(outputSavePredVal)"
   ]
  },
  {
   "cell_type": "code",
   "execution_count": 39,
   "metadata": {},
   "outputs": [],
   "source": [
    "#add savings prediction to test data\n",
    "testSaveRate['Est_Savings']  = outputSavePredVal.astype(int)"
   ]
  },
  {
   "cell_type": "code",
   "execution_count": 47,
   "metadata": {},
   "outputs": [],
   "source": [
    "#view test data\n",
    "#testSaveRate"
   ]
  },
  {
   "cell_type": "code",
   "execution_count": 42,
   "metadata": {},
   "outputs": [],
   "source": [
    "#elec data x local value\n",
    "elecMltprVal = 0.13"
   ]
  },
  {
   "cell_type": "code",
   "execution_count": 43,
   "metadata": {},
   "outputs": [],
   "source": [
    "#gas data x local value\n",
    "gasMltprVal = 8.18"
   ]
  },
  {
   "cell_type": "code",
   "execution_count": 44,
   "metadata": {},
   "outputs": [],
   "source": [
    "#combine values to calc. annual dollar elec. and gas cost contd..\n",
    "#est. annual total utility cost before and after savings and savings percentage\n",
    "#returns savings rate as pct\n",
    "#calc annual energy dollar val for central Ohio\n",
    "energyLocYrCost = testSaveRate['E annual'] * elecMltprVal\n",
    "#calc annual gas dollar val for central Ohio\n",
    "gasLocYrCost = testSaveRate['G annual'] * gasMltprVal\n",
    "#calc est. annual combined cost of gas/elec. utilities\n",
    "totActUtil = int(energyLocYrCost + gasLocYrCost)\n",
    "#est new annual utility cost less pred. savings value\n",
    "newEstUtil = int(totActUtil - outputSavePredVal)\n",
    "#converts savings value to percentage value\n",
    "estPctSavings = int((outputSavePredVal/totActUtil) * 100)"
   ]
  },
  {
   "cell_type": "code",
   "execution_count": 53,
   "metadata": {},
   "outputs": [
    {
     "name": "stdout",
     "output_type": "stream",
     "text": [
      "Current Total Annual Utility Cost-USD: 9942\n",
      "Estimated New Annual Utility Cost-USD: 9290\n",
      "Estimated Annual Savings Amount-USD: 651\n",
      "Estimated Annual Savings Percent-percentage: 6\n"
     ]
    }
   ],
   "source": [
    "#return all new prediction values as list that can be parsed\n",
    "#output format: [current annual util. dollar value, new annual util. dollar value, est. annual savings dollar amount, est. savings rate as percentage]\n",
    "outputDataVal = [totActUtil, newEstUtil, outputSavePredVal, estPctSavings]\n",
    "\n",
    "#for demo purposes, prints values below, uncomment to run\n",
    "print(\"Current Total Annual Utility Cost-USD: %d\" % (outputDataVal[0]))\n",
    "print(\"Estimated New Annual Utility Cost-USD: %d\" % (outputDataVal[1]))\n",
    "print(\"Estimated Annual Savings Amount-USD: %d\" % (outputDataVal[2]))\n",
    "print(\"Estimated Annual Savings Percent-percentage: %d\" % (outputDataVal[3]))"
   ]
  },
  {
   "cell_type": "code",
   "execution_count": null,
   "metadata": {},
   "outputs": [],
   "source": [
    "#define how you want to push output data to be used/returned to user"
   ]
  }
 ],
 "metadata": {
  "kernelspec": {
   "display_name": "Python 3",
   "language": "python",
   "name": "python3"
  },
  "language_info": {
   "codemirror_mode": {
    "name": "ipython",
    "version": 3
   },
   "file_extension": ".py",
   "mimetype": "text/x-python",
   "name": "python",
   "nbconvert_exporter": "python",
   "pygments_lexer": "ipython3",
   "version": "3.7.3"
  }
 },
 "nbformat": 4,
 "nbformat_minor": 4
}
